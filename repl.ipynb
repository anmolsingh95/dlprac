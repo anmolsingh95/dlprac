{
 "cells": [
  {
   "cell_type": "code",
   "execution_count": 48,
   "id": "052264c4-cb8c-4983-9a67-9ed51b588228",
   "metadata": {},
   "outputs": [],
   "source": [
    "import torch\n",
    "import numpy as np"
   ]
  },
  {
   "cell_type": "code",
   "execution_count": 49,
   "id": "a45e4e24-35a2-4cc8-aade-5f6314bcb7e9",
   "metadata": {},
   "outputs": [],
   "source": [
    "data = [[1,2], [3,4]]"
   ]
  },
  {
   "cell_type": "code",
   "execution_count": 53,
   "id": "7b339ec0-6f3c-4590-ab23-bb2fc40e896c",
   "metadata": {},
   "outputs": [],
   "source": [
    "x_data = torch.tensor(data)"
   ]
  },
  {
   "cell_type": "code",
   "execution_count": 54,
   "id": "b04a4ac5-974e-45d3-897e-00e5daa64d1c",
   "metadata": {},
   "outputs": [
    {
     "data": {
      "text/plain": [
       "tensor([[1, 2],\n",
       "        [3, 4]])"
      ]
     },
     "execution_count": 54,
     "metadata": {},
     "output_type": "execute_result"
    }
   ],
   "source": [
    "x_data"
   ]
  },
  {
   "cell_type": "code",
   "execution_count": 55,
   "id": "35907603-1dfb-4144-b0a9-32c980938974",
   "metadata": {},
   "outputs": [
    {
     "data": {
      "text/plain": [
       "tensor([[0.4994, 0.9267, 0.4411],\n",
       "        [0.8475, 0.9094, 0.6899]])"
      ]
     },
     "execution_count": 55,
     "metadata": {},
     "output_type": "execute_result"
    }
   ],
   "source": [
    "torch.rand(2,3,)"
   ]
  },
  {
   "cell_type": "code",
   "execution_count": 57,
   "id": "a9146b9a-c138-4c6d-a307-c1fed031dddc",
   "metadata": {},
   "outputs": [
    {
     "data": {
      "text/plain": [
       "tensor([[1., 1., 1.],\n",
       "        [1., 1., 1.]])"
      ]
     },
     "execution_count": 57,
     "metadata": {},
     "output_type": "execute_result"
    }
   ],
   "source": [
    "torch.ones(2,3)"
   ]
  },
  {
   "cell_type": "code",
   "execution_count": 64,
   "id": "d2ab3b3b-74e4-49d6-bd1f-63093b32b66d",
   "metadata": {},
   "outputs": [
    {
     "data": {
      "text/plain": [
       "device(type='cpu')"
      ]
     },
     "execution_count": 64,
     "metadata": {},
     "output_type": "execute_result"
    }
   ],
   "source": [
    "torch.zeros(2,3).device"
   ]
  },
  {
   "cell_type": "code",
   "execution_count": 77,
   "id": "5a7f4c14-f429-47ba-9e95-fc2ecdb4d6c0",
   "metadata": {},
   "outputs": [
    {
     "data": {
      "text/plain": [
       "tensor([[2, 8, 2, 8],\n",
       "        [1, 1, 7, 3],\n",
       "        [9, 0, 8, 3],\n",
       "        [4, 4, 0, 0]])"
      ]
     },
     "execution_count": 77,
     "metadata": {},
     "output_type": "execute_result"
    }
   ],
   "source": [
    "tt = torch.randint(10, (4,4))\n",
    "tt"
   ]
  },
  {
   "cell_type": "code",
   "execution_count": 100,
   "id": "534c1bb9-7b23-4b61-a327-c290624edba1",
   "metadata": {},
   "outputs": [],
   "source": [
    "tt[..., 2:] = torch.tensor([[1,2],[3,4], [5,6],[7,8]])"
   ]
  },
  {
   "cell_type": "code",
   "execution_count": 108,
   "id": "3e22d3ba-a185-4ca9-a8ff-ee6acbb059eb",
   "metadata": {},
   "outputs": [
    {
     "data": {
      "text/plain": [
       "tensor([[4., 4.],\n",
       "        [4., 4.],\n",
       "        [4., 4.],\n",
       "        [4., 4.]])"
      ]
     },
     "execution_count": 108,
     "metadata": {},
     "output_type": "execute_result"
    }
   ],
   "source": [
    "torch.ones(4, 2) * 4"
   ]
  },
  {
   "cell_type": "code",
   "execution_count": 119,
   "id": "9209ba24-28bc-4dfc-8dd5-9efbd83ec427",
   "metadata": {},
   "outputs": [
    {
     "data": {
      "text/plain": [
       "tensor([[2., 2., 3., 3., 4., 4.],\n",
       "        [2., 2., 3., 3., 4., 4.],\n",
       "        [2., 2., 3., 3., 4., 4.],\n",
       "        [2., 2., 3., 3., 4., 4.]])"
      ]
     },
     "execution_count": 119,
     "metadata": {},
     "output_type": "execute_result"
    }
   ],
   "source": [
    "torch.cat([torch.ones(4, 2) * 2, torch.ones(4, 2) * 3, torch.ones(4, 2) * 4], dim=1)"
   ]
  },
  {
   "cell_type": "code",
   "execution_count": 127,
   "id": "00a761e2-162b-4569-ab93-08e0cb20c6a3",
   "metadata": {},
   "outputs": [
    {
     "data": {
      "text/plain": [
       "tensor([[[2., 2.],\n",
       "         [3., 3.],\n",
       "         [4., 4.]],\n",
       "\n",
       "        [[2., 2.],\n",
       "         [3., 3.],\n",
       "         [4., 4.]],\n",
       "\n",
       "        [[2., 2.],\n",
       "         [3., 3.],\n",
       "         [4., 4.]],\n",
       "\n",
       "        [[2., 2.],\n",
       "         [3., 3.],\n",
       "         [4., 4.]]])"
      ]
     },
     "execution_count": 127,
     "metadata": {},
     "output_type": "execute_result"
    }
   ],
   "source": [
    "torch.stack([torch.ones(4, 2) * 2, torch.ones(4, 2) * 3, torch.ones(4, 2) * 4], dim=1)"
   ]
  },
  {
   "cell_type": "code",
   "execution_count": 133,
   "id": "239e55f4-f3c6-44ba-b256-eefc5d8a2459",
   "metadata": {},
   "outputs": [
    {
     "data": {
      "text/plain": [
       "tensor([[2.8000, 2.8000, 2.8000, 2.8000, 2.8000],\n",
       "        [2.8000, 2.8000, 2.8000, 2.8000, 2.8000],\n",
       "        [2.8000, 2.8000, 2.8000, 2.8000, 2.8000],\n",
       "        [2.8000, 2.8000, 2.8000, 2.8000, 2.8000],\n",
       "        [2.8000, 2.8000, 2.8000, 2.8000, 2.8000]])"
      ]
     },
     "execution_count": 133,
     "metadata": {},
     "output_type": "execute_result"
    }
   ],
   "source": [
    "torch.ones(5,5) + 1.8"
   ]
  },
  {
   "cell_type": "code",
   "execution_count": 138,
   "id": "6335da18-bcfd-4909-aaba-216755993037",
   "metadata": {},
   "outputs": [
    {
     "data": {
      "text/plain": [
       "torch.Size([5, 5])"
      ]
     },
     "execution_count": 138,
     "metadata": {},
     "output_type": "execute_result"
    }
   ],
   "source": [
    "torch.ones(5, 5).size()"
   ]
  },
  {
   "cell_type": "code",
   "execution_count": 148,
   "id": "6d1689d4-4c74-453a-829e-69f00dde09de",
   "metadata": {},
   "outputs": [],
   "source": [
    "k = torch.zeros(10, dtype=torch.float).scatter_(0, torch.tensor(1), value=1)"
   ]
  },
  {
   "cell_type": "code",
   "execution_count": 149,
   "id": "2a8635c2-d949-4a7a-a8b8-e6dd6655c4a6",
   "metadata": {},
   "outputs": [
    {
     "data": {
      "text/plain": [
       "tensor(1)"
      ]
     },
     "execution_count": 149,
     "metadata": {},
     "output_type": "execute_result"
    }
   ],
   "source": [
    "torch.argmax(k)"
   ]
  },
  {
   "cell_type": "code",
   "execution_count": null,
   "id": "1ea6732d-a719-4525-8c2d-6ec6b7f039ee",
   "metadata": {},
   "outputs": [],
   "source": []
  }
 ],
 "metadata": {
  "kernelspec": {
   "display_name": "Python 3 (ipykernel)",
   "language": "python",
   "name": "python3"
  },
  "language_info": {
   "codemirror_mode": {
    "name": "ipython",
    "version": 3
   },
   "file_extension": ".py",
   "mimetype": "text/x-python",
   "name": "python",
   "nbconvert_exporter": "python",
   "pygments_lexer": "ipython3",
   "version": "3.11.6"
  }
 },
 "nbformat": 4,
 "nbformat_minor": 5
}
