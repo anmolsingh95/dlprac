{
 "cells": [
  {
   "cell_type": "code",
   "execution_count": 56,
   "id": "342e0815-5846-4a3a-8008-9cab609c655e",
   "metadata": {},
   "outputs": [],
   "source": [
    "import torch\n",
    "from torch import nn\n",
    "from torch.utils.data import DataLoader\n",
    "from torchvision import datasets\n",
    "from torchvision.transforms import ToTensor\n",
    "import matplotlib.pyplot as plt\n",
    "%matplotlib inline\n"
   ]
  },
  {
   "cell_type": "code",
   "execution_count": 71,
   "id": "541396da-9d28-4d75-995e-6fbebbf79f28",
   "metadata": {},
   "outputs": [
    {
     "data": {
      "image/png": "[encoded data removed]",
      "text/plain": [
       "<Figure size 300x300 with 1 Axes>"
      ]
     },
     "metadata": {},
     "output_type": "display_data"
    }
   ],
   "source": [
    "train_data = datasets.FashionMNIST(\"data\", train=True, download=True)\n",
    "fig = plt.figure(figsize=(3, 3))\n",
    "plt.imshow(train_data[2][0], cmap='gray')\n",
    "plt.axis('off')\n",
    "plt.show()"
   ]
  },
  {
   "cell_type": "code",
   "execution_count": 72,
   "id": "956f674b-f64c-45f2-9670-bba68c217382",
   "metadata": {},
   "outputs": [
    {
     "data": {
      "image/png": "[encoded data removed]",
      "text/plain": [
       "<Figure size 300x300 with 1 Axes>"
      ]
     },
     "metadata": {},
     "output_type": "display_data"
    }
   ],
   "source": [
    "train_data = datasets.FashionMNIST(\"data\", train=True, download=True, transform=ToTensor())\n",
    "image_numpy = train_data[2][0].squeeze().numpy()\n",
    "fig = plt.figure(figsize=(3, 3))\n",
    "plt.imshow(image_numpy, cmap='gray')\n",
    "plt.axis('off')\n",
    "plt.show()"
   ]
  },
  {
   "cell_type": "code",
   "execution_count": 73,
   "id": "41efee06-7e04-461a-b6c4-1272de6fe893",
   "metadata": {},
   "outputs": [],
   "source": [
    "train_data = datasets.FashionMNIST(\"data\", train=True, download=True, transform=ToTensor())\n",
    "test_data = datasets.FashionMNIST(\"data\", train=False, download=True, transform=ToTensor())"
   ]
  },
  {
   "cell_type": "code",
   "execution_count": 74,
   "id": "f1587d8b-a2bb-4fa3-b877-22f124b75624",
   "metadata": {},
   "outputs": [
    {
     "data": {
      "text/plain": [
       "(60000, 10000)"
      ]
     },
     "execution_count": 74,
     "metadata": {},
     "output_type": "execute_result"
    }
   ],
   "source": [
    "len(train_data), len(test_data)"
   ]
  },
  {
   "cell_type": "code",
   "execution_count": 75,
   "id": "97a47c59-2d89-4a68-86da-04fa9863c92e",
   "metadata": {},
   "outputs": [],
   "source": [
    "batch_size=64\n",
    "train_dataloader = DataLoader(train_data, batch_size=batch_size)\n",
    "test_dataloader = DataLoader(test_data, batch_size=batch_size)"
   ]
  },
  {
   "cell_type": "code",
   "execution_count": 76,
   "id": "a92ec74e-f0d7-4daf-99b9-d2867dace011",
   "metadata": {},
   "outputs": [
    {
     "name": "stdout",
     "output_type": "stream",
     "text": [
      "torch.Size([64, 1, 28, 28]) torch.Size([64])\n"
     ]
    }
   ],
   "source": [
    "for X, y in training_dataloader:\n",
    "    print(X.shape, y.shape)\n",
    "    break"
   ]
  },
  {
   "cell_type": "code",
   "execution_count": 77,
   "id": "993a9fb3-d08f-4911-9da2-2a58f2fa1b98",
   "metadata": {},
   "outputs": [
    {
     "name": "stdout",
     "output_type": "stream",
     "text": [
      "Using cuda device\n"
     ]
    }
   ],
   "source": [
    "# Get cpu, gpu or mps device for training.\n",
    "device = (\n",
    "    \"cuda\"\n",
    "    if torch.cuda.is_available()\n",
    "    else \"mps\"\n",
    "    if torch.backends.mps.is_available()\n",
    "    else \"cpu\"\n",
    ")\n",
    "print(f\"Using {device} device\")"
   ]
  },
  {
   "cell_type": "code",
   "execution_count": 78,
   "id": "8398f009-af5d-4b39-819e-166816ab01f5",
   "metadata": {},
   "outputs": [
    {
     "name": "stdout",
     "output_type": "stream",
     "text": [
      "NeuralNetwork(\n",
      "  (flatten): Flatten(start_dim=1, end_dim=-1)\n",
      "  (linear_relu_stack): Sequential(\n",
      "    (0): Linear(in_features=784, out_features=512, bias=True)\n",
      "    (1): ReLU()\n",
      "    (2): Linear(in_features=512, out_features=512, bias=True)\n",
      "    (3): ReLU()\n",
      "    (4): Linear(in_features=512, out_features=10, bias=True)\n",
      "  )\n",
      ")\n"
     ]
    }
   ],
   "source": [
    "# Define model\n",
    "class NeuralNetwork(nn.Module):\n",
    "    def __init__(self):\n",
    "        super().__init__()\n",
    "        self.flatten = nn.Flatten()\n",
    "        self.linear_relu_stack = nn.Sequential(\n",
    "            nn.Linear(28*28, 512),\n",
    "            nn.ReLU(),\n",
    "            nn.Linear(512, 512),\n",
    "            nn.ReLU(),\n",
    "            nn.Linear(512, 10)\n",
    "        )\n",
    "\n",
    "    def forward(self, x):\n",
    "        x = self.flatten(x)\n",
    "        logits = self.linear_relu_stack(x)\n",
    "        return logits\n",
    "\n",
    "model = NeuralNetwork().to(device)\n",
    "print(model)"
   ]
  },
  {
   "cell_type": "code",
   "execution_count": 79,
   "id": "11bd248f-e5b6-4c15-8f0b-dd9121d2c5e3",
   "metadata": {},
   "outputs": [],
   "source": [
    "loss_fn = nn.CrossEntropyLoss()\n",
    "optimizer = torch.optim.SGD(model.parameters(), lr=1e-3)"
   ]
  },
  {
   "cell_type": "code",
   "execution_count": 80,
   "id": "50bc8059-dfa6-4860-9ab6-db81e37bc766",
   "metadata": {},
   "outputs": [],
   "source": [
    "def train(dataloader, model, loss_fn, optimizer):\n",
    "    size = len(dataloader.dataset)\n",
    "    model.train()\n",
    "    for batch, (X, y) in enumerate(dataloader):\n",
    "        X, y = X.to(device), y.to(device)\n",
    "\n",
    "        # Compute prediction error\n",
    "        pred = model(X)\n",
    "        loss = loss_fn(pred, y)\n",
    "\n",
    "        # Backpropagation\n",
    "        loss.backward()\n",
    "        optimizer.step()\n",
    "        optimizer.zero_grad()\n",
    "\n",
    "        if batch % 100 == 0:\n",
    "            loss, current = loss.item(), (batch + 1) * len(X)\n",
    "            print(f\"loss: {loss:>7f}  [{current:>5d}/{size:>5d}]\")"
   ]
  },
  {
   "cell_type": "code",
   "execution_count": 81,
   "id": "870e8110-82e7-422b-b27e-e0e46329f5b5",
   "metadata": {},
   "outputs": [],
   "source": [
    "def test(dataloader, model, loss_fn):\n",
    "    size = len(dataloader.dataset)\n",
    "    num_batches = len(dataloader)\n",
    "    model.eval()\n",
    "    test_loss, correct = 0, 0\n",
    "    with torch.no_grad():\n",
    "        for X, y in dataloader:\n",
    "            X, y = X.to(device), y.to(device)\n",
    "            pred = model(X)\n",
    "            test_loss += loss_fn(pred, y).item()\n",
    "            correct += (pred.argmax(1) == y).type(torch.float).sum().item()\n",
    "    test_loss /= num_batches\n",
    "    correct /= size\n",
    "    print(f\"Test Error: \\n Accuracy: {(100*correct):>0.1f}%, Avg loss: {test_loss:>8f} \\n\")"
   ]
  },
  {
   "cell_type": "code",
   "execution_count": 82,
   "id": "c71291aa-95b6-4bba-b534-355626c5aa83",
   "metadata": {},
   "outputs": [
    {
     "name": "stdout",
     "output_type": "stream",
     "text": [
      "Epoch 1\n",
      "-------------------------------\n",
      "loss: 2.297320  [   64/60000]\n",
      "loss: 2.281429  [ 6464/60000]\n",
      "loss: 2.270085  [12864/60000]\n",
      "loss: 2.264790  [19264/60000]\n",
      "loss: 2.237473  [25664/60000]\n",
      "loss: 2.212374  [32064/60000]\n",
      "loss: 2.221945  [38464/60000]\n",
      "loss: 2.181164  [44864/60000]\n",
      "loss: 2.186121  [51264/60000]\n",
      "loss: 2.152483  [57664/60000]\n",
      "Test Error: \n",
      " Accuracy: 43.3%, Avg loss: 2.139516 \n",
      "\n",
      "Epoch 2\n",
      "-------------------------------\n",
      "loss: 2.150755  [   64/60000]\n",
      "loss: 2.134899  [ 6464/60000]\n",
      "loss: 2.079759  [12864/60000]\n",
      "loss: 2.102929  [19264/60000]\n",
      "loss: 2.041062  [25664/60000]\n",
      "loss: 1.977835  [32064/60000]\n",
      "loss: 2.017787  [38464/60000]\n",
      "loss: 1.921229  [44864/60000]\n",
      "loss: 1.947846  [51264/60000]\n",
      "loss: 1.868697  [57664/60000]\n",
      "Test Error: \n",
      " Accuracy: 57.5%, Avg loss: 1.857602 \n",
      "\n",
      "Epoch 3\n",
      "-------------------------------\n",
      "loss: 1.895310  [   64/60000]\n",
      "loss: 1.857084  [ 6464/60000]\n",
      "loss: 1.739178  [12864/60000]\n",
      "loss: 1.789746  [19264/60000]\n",
      "loss: 1.672794  [25664/60000]\n",
      "loss: 1.628891  [32064/60000]\n",
      "loss: 1.664125  [38464/60000]\n",
      "loss: 1.551677  [44864/60000]\n",
      "loss: 1.597709  [51264/60000]\n",
      "loss: 1.485156  [57664/60000]\n",
      "Test Error: \n",
      " Accuracy: 61.2%, Avg loss: 1.494604 \n",
      "\n",
      "Epoch 4\n",
      "-------------------------------\n",
      "loss: 1.566680  [   64/60000]\n",
      "loss: 1.525949  [ 6464/60000]\n",
      "loss: 1.377690  [12864/60000]\n",
      "loss: 1.450941  [19264/60000]\n",
      "loss: 1.328934  [25664/60000]\n",
      "loss: 1.334847  [32064/60000]\n",
      "loss: 1.354764  [38464/60000]\n",
      "loss: 1.271399  [44864/60000]\n",
      "loss: 1.318712  [51264/60000]\n",
      "loss: 1.214057  [57664/60000]\n",
      "Test Error: \n",
      " Accuracy: 63.2%, Avg loss: 1.232852 \n",
      "\n",
      "Epoch 5\n",
      "-------------------------------\n",
      "loss: 1.311356  [   64/60000]\n",
      "loss: 1.290505  [ 6464/60000]\n",
      "loss: 1.127483  [12864/60000]\n",
      "loss: 1.232459  [19264/60000]\n",
      "loss: 1.104327  [25664/60000]\n",
      "loss: 1.139671  [32064/60000]\n",
      "loss: 1.165026  [38464/60000]\n",
      "loss: 1.097134  [44864/60000]\n",
      "loss: 1.144525  [51264/60000]\n",
      "loss: 1.056304  [57664/60000]\n",
      "Test Error: \n",
      " Accuracy: 64.7%, Avg loss: 1.070882 \n",
      "\n",
      "Done!\n"
     ]
    }
   ],
   "source": [
    "epochs = 5\n",
    "for t in range(epochs):\n",
    "    print(f\"Epoch {t+1}\\n-------------------------------\")\n",
    "    train(train_dataloader, model, loss_fn, optimizer)\n",
    "    test(test_dataloader, model, loss_fn)\n",
    "print(\"Done!\")"
   ]
  },
  {
   "cell_type": "code",
   "execution_count": 83,
   "id": "5618e0ef-091a-43e6-80dd-986e272499f0",
   "metadata": {},
   "outputs": [
    {
     "name": "stdout",
     "output_type": "stream",
     "text": [
      "Predicted: \"Ankle boot\", Actual: \"Ankle boot\"\n"
     ]
    }
   ],
   "source": [
    "classes = [\n",
    "    \"T-shirt/top\",\n",
    "    \"Trouser\",\n",
    "    \"Pullover\",\n",
    "    \"Dress\",\n",
    "    \"Coat\",\n",
    "    \"Sandal\",\n",
    "    \"Shirt\",\n",
    "    \"Sneaker\",\n",
    "    \"Bag\",\n",
    "    \"Ankle boot\",\n",
    "]\n",
    "\n",
    "model.eval()\n",
    "x, y = test_data[0][0], test_data[0][1]\n",
    "with torch.no_grad():\n",
    "    x = x.to(device)\n",
    "    pred = model(x)\n",
    "    predicted, actual = classes[pred[0].argmax(0)], classes[y]\n",
    "    print(f'Predicted: \"{predicted}\", Actual: \"{actual}\"')"
   ]
  },
  {
   "cell_type": "code",
   "execution_count": null,
   "id": "46a9c504-2da6-4baf-9e05-baf46e6d7c0d",
   "metadata": {},
   "outputs": [],
   "source": []
  }
 ],
 "metadata": {
  "kernelspec": {
   "display_name": "Python 3 (ipykernel)",
   "language": "python",
   "name": "python3"
  },
  "language_info": {
   "codemirror_mode": {
    "name": "ipython",
    "version": 3
   },
   "file_extension": ".py",
   "mimetype": "text/x-python",
   "name": "python",
   "nbconvert_exporter": "python",
   "pygments_lexer": "ipython3",
   "version": "3.11.6"
  }
 },
 "nbformat": 4,
 "nbformat_minor": 5
}
